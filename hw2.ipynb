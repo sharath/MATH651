{
 "cells": [
  {
   "cell_type": "markdown",
   "metadata": {},
   "source": [
    "Importing Libraries."
   ]
  },
  {
   "cell_type": "code",
   "execution_count": 1,
   "metadata": {},
   "outputs": [],
   "source": [
    "import numpy as np"
   ]
  },
  {
   "cell_type": "markdown",
   "metadata": {},
   "source": [
    "Defining the function I'm trying to find zeros for. $$f(x) = 1 - xtan(x)$$"
   ]
  },
  {
   "cell_type": "code",
   "execution_count": 2,
   "metadata": {},
   "outputs": [],
   "source": [
    "def f(x):\n",
    "    return 1.0 - x*np.tan(x)"
   ]
  },
  {
   "cell_type": "markdown",
   "metadata": {},
   "source": [
    "I'm implementing the secant method to find the zeroes."
   ]
  },
  {
   "cell_type": "code",
   "execution_count": 3,
   "metadata": {},
   "outputs": [],
   "source": [
    "def secm(x0, x1, f, tol=10e-16):\n",
    "    x2 = x1 - (f(x1)*(x1 - x0))/(f(x1) - f(x0))\n",
    "    while abs(x2 - x1) > tol:\n",
    "        x0 = x1\n",
    "        x1 = x2\n",
    "        x2 = x1 - (f(x1)*(x1 - x0))/(f(x1) - f(x0))\n",
    "    return x2"
   ]
  },
  {
   "cell_type": "markdown",
   "metadata": {},
   "source": [
    "Choosing some random point in $(0, 100)$ for $x_0$ and $x_1$. Hopefully they converge to find all the zeroes. (Whoops. I just read that the function is monotone over each period. It's 11:16PM. Oh well. I think this works too.) "
   ]
  },
  {
   "cell_type": "code",
   "execution_count": 4,
   "metadata": {},
   "outputs": [],
   "source": [
    "ans = set()\n",
    "for x0, x1 in zip(np.linspace(0, 100, 100), np.linspace(1,99,99)):\n",
    "    val = secm(x0, x1, f)\n",
    "    if val > 0 and val < 100:\n",
    "        ans.add(val)"
   ]
  },
  {
   "cell_type": "markdown",
   "metadata": {},
   "source": [
    "Printing out the values as well as the number of zeroes found."
   ]
  },
  {
   "cell_type": "code",
   "execution_count": 5,
   "metadata": {},
   "outputs": [
    {
     "data": {
      "text/plain": [
       "(32,\n",
       " {0.8603335890193798,\n",
       "  3.4256184594817283,\n",
       "  6.437298179171947,\n",
       "  9.529334405361963,\n",
       "  12.645287223856643,\n",
       "  15.771284874815882,\n",
       "  18.902409956860023,\n",
       "  22.036496727938566,\n",
       "  25.172446326646664,\n",
       "  28.30964285445201,\n",
       "  31.447714637546234,\n",
       "  34.58642421528892,\n",
       "  37.7256128277765,\n",
       "  40.86517033048807,\n",
       "  44.005017920830845,\n",
       "  47.14509773676103,\n",
       "  50.28536633777365,\n",
       "  53.42579047739466,\n",
       "  56.56634427982152,\n",
       "  59.70700730533546,\n",
       "  62.84776319445445,\n",
       "  65.98859869849039,\n",
       "  69.12950297389526,\n",
       "  72.27046706030896,\n",
       "  75.41148348884815,\n",
       "  78.55254598424293,\n",
       "  81.69364923560168,\n",
       "  84.83478871804229,\n",
       "  87.97596055249322,\n",
       "  91.11716139446474,\n",
       "  94.25838834503986,\n",
       "  97.39963887907376})"
      ]
     },
     "execution_count": 5,
     "metadata": {},
     "output_type": "execute_result"
    }
   ],
   "source": [
    "len(ans), ans"
   ]
  },
  {
   "cell_type": "markdown",
   "metadata": {},
   "source": [
    "Conclusion: I think I was supposed to take advantage of the periodic nature of the function when choosing the intervals to find roots. This solution seems to work as well, but there is no guarantee that all the roots were found. Also due to precision errors, using a set for filtering out duplicates might not be that wise."
   ]
  }
 ],
 "metadata": {
  "kernelspec": {
   "display_name": "Python 3",
   "language": "python",
   "name": "python3"
  },
  "language_info": {
   "codemirror_mode": {
    "name": "ipython",
    "version": 3
   },
   "file_extension": ".py",
   "mimetype": "text/x-python",
   "name": "python",
   "nbconvert_exporter": "python",
   "pygments_lexer": "ipython3",
   "version": "3.7.0"
  }
 },
 "nbformat": 4,
 "nbformat_minor": 2
}
