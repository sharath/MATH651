{
 "cells": [
  {
   "cell_type": "code",
   "execution_count": 1,
   "metadata": {},
   "outputs": [],
   "source": [
    "import numpy as np\n",
    "import matplotlib.pyplot as plt\n",
    "from typing import Callable"
   ]
  },
  {
   "cell_type": "code",
   "execution_count": 2,
   "metadata": {},
   "outputs": [],
   "source": [
    "f = lambda x : np.e**np.cos(np.pi*8*x)"
   ]
  },
  {
   "cell_type": "code",
   "execution_count": 3,
   "metadata": {},
   "outputs": [],
   "source": [
    "def trapezoidal_rule(f : Callable, a : int, b : int, n : int) -> float:\n",
    "    x = np.linspace(a, b, n)\n",
    "    area = 0.0\n",
    "    h = (b-a)/n\n",
    "    for i in range(1, n):\n",
    "        area += 0.5*h*(f(x[i])+f(x[i-1]))\n",
    "    return area"
   ]
  },
  {
   "cell_type": "code",
   "execution_count": 4,
   "metadata": {},
   "outputs": [],
   "source": [
    "def simpsons_rule(f : Callable, a : int, b : int, n : int) -> float:\n",
    "    x = np.linspace(a, b, n)\n",
    "    area = 0.0\n",
    "    h = (b-a)/n\n",
    "    for i in range(1,int(n/2),2):\n",
    "        area += (h/3)*(f(x[i-1]) + 4*f(x[i]) + f(x[i+1]))\n",
    "    for i in range(n-2, int(n/2) - 1, -2):\n",
    "        area += (h/3)*(f(x[i+1]) + 4*f(x[i]) + f(x[i-1]))\n",
    "    return area"
   ]
  },
  {
   "cell_type": "code",
   "execution_count": 5,
   "metadata": {},
   "outputs": [],
   "source": [
    "def gauss_legendre(f : Callable, a : int, b :int, n: int) -> float:\n",
    "    beta = 0.5/np.sqrt((np.ones(n-1) - 1/np.power(2*np.arange(1, n),2)))\n",
    "    T = np.diag(beta,1)+np.diag(beta,-1)\n",
    "    x, V = np.linalg.eig(T)\n",
    "    x, i = sorted(x), np.arange(len(x))+1\n",
    "    w = 2*np.power(V[0],2)\n",
    "    area = 0.0\n",
    "    for i in range(n):\n",
    "        area += w[i]*f(x[i])\n",
    "    return area"
   ]
  },
  {
   "cell_type": "code",
   "execution_count": 6,
   "metadata": {},
   "outputs": [],
   "source": [
    "def empirical_rate(method : Callable, n: int, f : Callable = f, a: int = -1, b: int = 1) -> float:\n",
    "    return (method(f, a, b, 2*n)-method(f, a, b, n))/(method(f, a, b, 4*n) - method(f, a, b, 2*n))"
   ]
  },
  {
   "cell_type": "code",
   "execution_count": 7,
   "metadata": {},
   "outputs": [
    {
     "name": "stdout",
     "output_type": "stream",
     "text": [
      "|   n | Trapezoidal | Rate | Simpson's | Rate | Gauss-Legendre | Rate |\n",
      "|   2 | 2.71828183 | -3.01 | 0.00000000 | 4.98 | 1.38891672749 | -0.23 |\n",
      "|   4 | 1.96567157 | 1.58 | 1.91697838 | -1.50 | 0.91950998760 | -10.92 |\n",
      "|   8 | 2.21562088 | 2.00 | 2.30197745 | -0.59 | 2.94819272913 | 10.31 |\n",
      "|  16 | 2.37387352 | 2.00 | 2.04574184 | 4.84 | 2.76244281834 | 0.82 |\n",
      "|  32 | 2.45300264 | 2.00 | 2.48352649 | -4.68 | 2.74441985951 | 0.44 |\n",
      "|  64 | 2.49256720 | 2.00 | 2.57389973 | 1.74 | 2.72254799818 | -0.85 |\n",
      "| 128 | 2.51234948 | 2.00 | 2.55457344 | 1.97 | 2.67336687015 | 1.49 |\n",
      "| 256 | 2.52224062 | 2.00 | 2.54344361 | 1.99 | 2.73105654554 | 10.03 |\n"
     ]
    }
   ],
   "source": [
    "ns = [2, 4, 8, 16, 32, 64, 128, 256]\n",
    "print(f'|   n | Trapezoidal | Rate | Simpson\\'s | Rate | Gauss-Legendre | Rate |')\n",
    "for n in ns:\n",
    "    tval = trapezoidal_rule(f, -1, 1, n)\n",
    "    sval = simpsons_rule(f, -1, 1, n)\n",
    "    gval = gauss_legendre(f, -1, 1, n)\n",
    "    trate = empirical_rate(trapezoidal_rule, n)\n",
    "    srate = empirical_rate(simpsons_rule, n)\n",
    "    grate = empirical_rate(gauss_legendre, n)\n",
    "    print(f'| {n:3d} | {tval:.8f} | {trate:.2f} | {sval:.8f} | {srate:.2f} | {gval:.11f} | {grate:.2f} |')"
   ]
  }
 ],
 "metadata": {
  "kernelspec": {
   "display_name": "Python 3",
   "language": "python",
   "name": "python3"
  },
  "language_info": {
   "codemirror_mode": {
    "name": "ipython",
    "version": 3
   },
   "file_extension": ".py",
   "mimetype": "text/x-python",
   "name": "python",
   "nbconvert_exporter": "python",
   "pygments_lexer": "ipython3",
   "version": "3.7.0"
  }
 },
 "nbformat": 4,
 "nbformat_minor": 2
}
