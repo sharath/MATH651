{
 "cells": [
  {
   "cell_type": "code",
   "execution_count": 1,
   "metadata": {},
   "outputs": [],
   "source": [
    "import numpy as np\n",
    "import matplotlib.pyplot as plt"
   ]
  },
  {
   "cell_type": "code",
   "execution_count": 2,
   "metadata": {},
   "outputs": [],
   "source": [
    "f = lambda x : 1 / x"
   ]
  },
  {
   "cell_type": "code",
   "execution_count": 3,
   "metadata": {},
   "outputs": [],
   "source": [
    "dydt = lambda t, y : -5*t*y**2 + (5/t) - (1/t**2)"
   ]
  },
  {
   "cell_type": "code",
   "execution_count": 4,
   "metadata": {},
   "outputs": [],
   "source": [
    "steps = [0.2, 0.1, 0.05, 0.02, 0.01, 0.005, 0.002]"
   ]
  },
  {
   "cell_type": "code",
   "execution_count": 5,
   "metadata": {},
   "outputs": [],
   "source": [
    "err = lambda t, y: np.max(np.abs(f(t) - y))"
   ]
  },
  {
   "cell_type": "markdown",
   "metadata": {},
   "source": [
    "# 4th Order Runge-Kutta"
   ]
  },
  {
   "cell_type": "markdown",
   "metadata": {},
   "source": [
    "![](rk4.png)"
   ]
  },
  {
   "cell_type": "code",
   "execution_count": 6,
   "metadata": {},
   "outputs": [],
   "source": [
    "def rk4(h):\n",
    "    t = [1]\n",
    "    y = [1]\n",
    "    while t[-1] < 20:\n",
    "        K1 = dydt(t[-1], y[-1])\n",
    "        K2 = dydt(t[-1] + (h/2), y[-1] + (h/2)*K1)\n",
    "        K3 = dydt(t[-1] + (h/2), y[-1] + (h/2)*K2)\n",
    "        K4 = dydt(t[-1] + h, y[-1] + h*K2)\n",
    "        \n",
    "        t.append(t[-1] + h)\n",
    "        y.append(y[-1] + (h/6)*(K1 + 2*K2 + 2*K3 + K4))\n",
    "    return np.array(t), np.array(y)"
   ]
  },
  {
   "cell_type": "code",
   "execution_count": 7,
   "metadata": {},
   "outputs": [],
   "source": [
    "errors_rk = [err(*rk4(h)) for h in steps]"
   ]
  },
  {
   "cell_type": "markdown",
   "metadata": {},
   "source": [
    "# 2nd Order BDF Method"
   ]
  },
  {
   "cell_type": "markdown",
   "metadata": {},
   "source": [
    "![](bdf.png)"
   ]
  },
  {
   "cell_type": "code",
   "execution_count": 8,
   "metadata": {},
   "outputs": [],
   "source": [
    "def bdf2(h):\n",
    "    t = [1]\n",
    "    y = [1]\n",
    "    while t[-1] < 20:\n",
    "        y.append(y[-1] + (2/3)*h*dydt(t[-1], y[-1]))\n",
    "        t.append(t[-1] + (2/3)*h)\n",
    "    return np.array(t), np.array(y)"
   ]
  },
  {
   "cell_type": "code",
   "execution_count": 9,
   "metadata": {},
   "outputs": [],
   "source": [
    "errors_bdf = [err(*bdf2(h)) for h in steps]"
   ]
  },
  {
   "cell_type": "markdown",
   "metadata": {},
   "source": [
    "# Error Plots"
   ]
  },
  {
   "cell_type": "code",
   "execution_count": 10,
   "metadata": {},
   "outputs": [
    {
     "data": {
      "image/png": "[encoded data removed]",
      "text/plain": [
       "<Figure size 432x288 with 1 Axes>"
      ]
     },
     "metadata": {
      "needs_background": "light"
     },
     "output_type": "display_data"
    }
   ],
   "source": [
    "plt.title('Step Size vs. Error')\n",
    "plt.plot(np.log10(steps), np.log10(errors_rk), color='g', label='RK4')\n",
    "plt.plot(np.log10(steps), np.log10(errors_bdf), color='y', label='BDF2')\n",
    "plt.xlabel('Step Size (Power of 10)')\n",
    "plt.ylabel('Error (Power of 10)')\n",
    "plt.legend()\n",
    "plt.show()"
   ]
  },
  {
   "cell_type": "markdown",
   "metadata": {},
   "source": [
    "# Order of Convergence"
   ]
  },
  {
   "cell_type": "code",
   "execution_count": 19,
   "metadata": {},
   "outputs": [
    {
     "name": "stdout",
     "output_type": "stream",
     "text": [
      "Computed P Values ['3.82', '3.36', '3.18', '3.08', '3.04', '3.02']\n",
      "Average Order of Convergence for RK4: 3.251307571921234\n"
     ]
    }
   ],
   "source": [
    "orders_rk = []\n",
    "for i in range(1, len(steps)):\n",
    "    p = np.log(errors_rk[i]/errors_rk[i-1])/np.log(steps[i-1]/steps[i])\n",
    "    orders_rk.append(np.abs(p))\n",
    "print(f'Computed P Values: {[f\"{i:.2f}\" for i in orders_rk]}')\n",
    "print(f'Average Order of Convergence for RK4: {np.mean(orders_rk)}')"
   ]
  },
  {
   "cell_type": "code",
   "execution_count": 20,
   "metadata": {},
   "outputs": [
    {
     "name": "stdout",
     "output_type": "stream",
     "text": [
      "Computed P Values ['1.70', '1.15', '1.05', '1.02', '1.01', '1.00']\n",
      "Average Order of Convergence for BDF2: 1.1551425257963093\n"
     ]
    }
   ],
   "source": [
    "orders_bdf = []\n",
    "for i in range(1, len(steps)):\n",
    "    p = np.log(errors_bdf[i]/errors_bdf[i-1])/np.log(steps[i-1]/steps[i])\n",
    "    orders_bdf.append(np.abs(p))\n",
    "print(f'Computed P Values {[f\"{i:.2f}\" for i in orders_bdf]}')\n",
    "print(f'Average Order of Convergence for BDF2: {np.mean(orders_bdf)}')"
   ]
  },
  {
   "cell_type": "markdown",
   "metadata": {},
   "source": [
    "# Conclusion"
   ]
  },
  {
   "cell_type": "markdown",
   "metadata": {},
   "source": [
    "We expected RK4 to be higher order than BDF2 and based on the results it is. Also for the error plots, we see that the error disparity between RK4 and BDF2 is much larger for smaller step sizes which makes sense as well."
   ]
  },
  {
   "cell_type": "markdown",
   "metadata": {},
   "source": [
    "# Extra: Plots"
   ]
  },
  {
   "cell_type": "code",
   "execution_count": 30,
   "metadata": {},
   "outputs": [
    {
     "data": {
      "image/png": "[encoded data removed]",
      "text/plain": [
       "<Figure size 432x288 with 1 Axes>"
      ]
     },
     "metadata": {
      "needs_background": "light"
     },
     "output_type": "display_data"
    }
   ],
   "source": [
    "plt.plot(*bdf2(0.1), label='BDF2')\n",
    "plt.legend()\n",
    "plt.show()"
   ]
  },
  {
   "cell_type": "code",
   "execution_count": 32,
   "metadata": {},
   "outputs": [
    {
     "data": {
      "image/png": "[encoded data removed]",
      "text/plain": [
       "<Figure size 432x288 with 1 Axes>"
      ]
     },
     "metadata": {
      "needs_background": "light"
     },
     "output_type": "display_data"
    }
   ],
   "source": [
    "plt.plot(*rk4(0.1), label='RK4')\n",
    "plt.legend()\n",
    "plt.show()"
   ]
  },
  {
   "cell_type": "code",
   "execution_count": 35,
   "metadata": {},
   "outputs": [
    {
     "data": {
      "image/png": "[encoded data removed]",
      "text/plain": [
       "<Figure size 432x288 with 1 Axes>"
      ]
     },
     "metadata": {
      "needs_background": "light"
     },
     "output_type": "display_data"
    }
   ],
   "source": [
    "x = np.linspace(1, 20, 100)\n",
    "plt.plot(x, f(x), label='$f(x) = \\\\frac{1}{x}$')\n",
    "plt.legend()\n",
    "plt.show()"
   ]
  }
 ],
 "metadata": {
  "kernelspec": {
   "display_name": "Python 3",
   "language": "python",
   "name": "python3"
  },
  "language_info": {
   "codemirror_mode": {
    "name": "ipython",
    "version": 3
   },
   "file_extension": ".py",
   "mimetype": "text/x-python",
   "name": "python",
   "nbconvert_exporter": "python",
   "pygments_lexer": "ipython3",
   "version": "3.7.0"
  }
 },
 "nbformat": 4,
 "nbformat_minor": 2
}
